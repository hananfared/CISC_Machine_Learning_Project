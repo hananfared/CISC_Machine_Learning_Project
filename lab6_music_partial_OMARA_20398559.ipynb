{
  "cells": [
    {
      "cell_type": "markdown",
      "source": [
        "# Lab 6:  Neural Networks for Music Classification\n",
        "\n",
        "In addition to the concepts in the [MNIST neural network demo](./mnist_neural.ipynb), in this lab, you will learn to:\n",
        "* Load a file from a URL\n",
        "* Extract simple features from audio samples for machine learning tasks such as speech recognition and classification\n",
        "* Build a simple neural network for music classification using these features\n",
        "* Use a callback to store the loss and accuracy history in the training process\n",
        "* Optimize the learning rate of the neural network\n",
        "\n",
        "To illustrate the basic concepts, we will look at a relatively simple music classification problem.  Given a sample of music, we want to determine which instrument (e.g. trumpet, violin, piano) is playing.  This dataset was generously supplied by [Prof. Juan Bello](http://steinhardt.nyu.edu/faculty/Juan_Pablo_Bello) at NYU Stenihardt  and his former PhD student Eric Humphrey (now at Spotify).  They have a complete website dedicated to deep learning methods in music informatics:\n",
        "\n",
        "http://marl.smusic.nyu.edu/wordpress/projects/feature-learning-deep-architectures/deep-learning-python-tutorial/\n",
        "\n",
        "You can also check out Juan's <a href=\"http://www.nyu.edu/classes/bello/ACA.html\">course</a>.\n",
        "\n"
      ],
      "metadata": {
        "id": "D3hK8AzS_zP2"
      }
    },
    {
      "cell_type": "markdown",
      "source": [
        "## Loading the Keras package\n",
        "We begin by loading keras and the other packages"
      ],
      "metadata": {
        "id": "U8dVorES_zP4"
      }
    },
    {
      "cell_type": "code",
      "source": [
        "#Hanan Fared Mohamed Omara  Id:20398559\n",
        "import keras"
      ],
      "outputs": [],
      "execution_count": null,
      "metadata": {
        "id": "GcHpXzXF_zP5"
      }
    },
    {
      "cell_type": "code",
      "source": [
        "import numpy as np\n",
        "import matplotlib\n",
        "import matplotlib.pyplot as plt\n",
        "%matplotlib inline"
      ],
      "outputs": [],
      "execution_count": null,
      "metadata": {
        "collapsed": true,
        "id": "sEgUO5lj_zP6"
      }
    },
    {
      "cell_type": "markdown",
      "source": [
        "## Audio Feature Extraction with Librosa\n",
        "\n",
        "The key to audio classification is to extract the correct features. In addition to `keras`, we will need the `librosa` package.  The `librosa` package in python has a rich set of methods extracting the features of audio samples commonly used in machine learning tasks such as speech recognition and sound classification. \n",
        "\n",
        "Installation instructions and complete documentation for the package are given on the [librosa main page](https://librosa.github.io/librosa/).  On most systems, you should be able to simply use:\n",
        "\n",
        "    pip install -u librosa\n",
        "    \n",
        "For Unix, you may need to load some additional packages:\n",
        "\n",
        "    sudo apt-get install build-essential\n",
        "    sudo apt-get install libxext-dev python-qt4 qt4-dev-tools\n",
        "    pip install librosa\n",
        "    \n",
        "After you have installed the package, try to import it."
      ],
      "metadata": {
        "id": "swtdcIjR_zP6"
      }
    },
    {
      "cell_type": "code",
      "source": [
        "import librosa\n",
        "import librosa.display\n",
        "import librosa.feature"
      ],
      "outputs": [],
      "execution_count": null,
      "metadata": {
        "collapsed": true,
        "id": "oe39CNkG_zP6"
      }
    },
    {
      "cell_type": "markdown",
      "source": [
        "In this lab, we will use a set of music samples from the website:\n",
        "\n",
        "http://theremin.music.uiowa.edu\n",
        "\n",
        "This website has a great set of samples for audio processing.  Look on the web for how to use the `requests.get` and `file.write` commands to load the file at the URL provided into your working directory.\n",
        "\n",
        "You can play the audio sample by copying the file to your local machine and playing it on any media player.  If you listen to it you will hear a soprano saxaphone (with vibrato) playing four notes (C, C#, D, Eb)."
      ],
      "metadata": {
        "id": "0LghQQrp_zP7"
      }
    },
    {
      "cell_type": "code",
      "source": [
        "import requests\n",
        "fn = \"SopSax.Vib.pp.C6Eb6.aiff\"\n",
        "url = \"http://theremin.music.uiowa.edu/sound files/MIS/Woodwinds/sopranosaxophone/\"+fn\n",
        "\n",
        "# TODO:  Load the file from url and save it in a file under the name fn\n",
        "\n",
        "\n",
        "r = requests.get(url, allow_redirects=True)\n",
        "open('music.wav','wb').write(r.content)"
      ],
      "outputs": [
        {
          "output_type": "execute_result",
          "data": {
            "text/plain": [
              "1418242"
            ]
          },
          "metadata": {},
          "execution_count": 4
        }
      ],
      "execution_count": null,
      "metadata": {
        "collapsed": true,
        "colab": {
          "base_uri": "https://localhost:8080/"
        },
        "id": "-fR4WN_3_zP7",
        "outputId": "caf3039c-dda3-449b-afcd-70e6dec46de6"
      }
    },
    {
      "cell_type": "markdown",
      "source": [
        "Next, use `librosa` command `librosa.load` to read the audio file with filename `fn` and get the samples `y` and sample rate `sr`."
      ],
      "metadata": {
        "id": "-BE-i5wJ_zP7"
      }
    },
    {
      "cell_type": "code",
      "source": [
        "# TODO\n",
        "myfile = '/content/music.wav'\n",
        "y, sr = librosa.load(myfile, sr = None)"
      ],
      "outputs": [],
      "execution_count": null,
      "metadata": {
        "collapsed": true,
        "id": "QWljgvon_zP7"
      }
    },
    {
      "cell_type": "markdown",
      "source": [
        "Extracting features from audio files is an entire subject on its own right.  A commonly used set of features are called the Mel Frequency Cepstral Coefficients (MFCCs).  These are derived from the so-called mel spectrogram which is something like a regular spectrogram, but the power and frequency are represented in log scale, which more naturally aligns with human perceptual processing.  You can run the code below to display the mel spectrogram from the audio sample.\n",
        "\n",
        "You can easily see the four notes played in the audio track.  You also see the 'harmonics' of each notes, which are other tones at integer multiples of the fundamental frequency of each note."
      ],
      "metadata": {
        "id": "s74rvzjW_zP7"
      }
    },
    {
      "cell_type": "code",
      "source": [
        "import librosa.display"
      ],
      "metadata": {
        "id": "DvAZu4rIAWN7"
      },
      "execution_count": null,
      "outputs": []
    },
    {
      "cell_type": "code",
      "source": [
        "S = librosa.feature.melspectrogram(y=y, sr=sr, n_mels=128, fmax=8000)\n",
        "librosa.display.specshow(librosa.amplitude_to_db(S),\n",
        "                         y_axis='mel', fmax=8000, x_axis='time')\n",
        "plt.colorbar(format='%+2.0f dB')\n",
        "plt.title('Mel spectrogram')\n",
        "plt.tight_layout()"
      ],
      "outputs": [
        {
          "output_type": "display_data",
          "data": {
            "text/plain": [
              "<Figure size 432x288 with 2 Axes>"
            ],
            "image/png": "[encoded data removed]"
          },
          "metadata": {
            "needs_background": "light"
          }
        }
      ],
      "execution_count": null,
      "metadata": {
        "collapsed": true,
        "colab": {
          "base_uri": "https://localhost:8080/",
          "height": 297
        },
        "id": "0RRPu-GI_zP8",
        "outputId": "c30617b4-dc52-4c91-c0d8-177d76f71cf5"
      }
    },
    {
      "cell_type": "markdown",
      "source": [
        "## Downloading the Data\n",
        "\n",
        "Using the MFCC features described above, Eric Humphrey and Juan Bellow have created a complete data set that can used for instrument classification.  Essentially, they collected a number of data files from the website above.  For each audio file, the segmented the track into notes and then extracted 120 MFCCs for each note.  The goal is to recognize the instrument from the 120 MFCCs.  The process of feature extraction is quite involved.  So, we will just use their processed data provided at:\n",
        "\n",
        "https://github.com/marl/dl4mir-tutorial/blob/master/README.md\n",
        "\n",
        "Note the password.  Load the four files into some directory, say  `instrument_dataset`.  Then, load them with the commands."
      ],
      "metadata": {
        "id": "2wxvQH9H_zP8"
      }
    },
    {
      "cell_type": "code",
      "source": [
        "data_dir = 'instrument_dataset/'\n",
        "Xtr = np.load(data_dir+'uiowa_train_data.npy')\n",
        "ytr = np.load(data_dir+'uiowa_train_labels.npy')\n",
        "Xts = np.load(data_dir+'uiowa_test_data.npy')\n",
        "yts = np.load(data_dir+'uiowa_test_labels.npy')"
      ],
      "outputs": [],
      "execution_count": null,
      "metadata": {
        "collapsed": true,
        "id": "vheYL786_zP8"
      }
    },
    {
      "cell_type": "markdown",
      "source": [
        "Looking at the data files:\n",
        "* What are the number of training and test samples?\n",
        "* What is the number of features for each sample?\n",
        "* How many classes (i.e. instruments) are there per class.\n"
      ],
      "metadata": {
        "id": "qU3DN8DF_zP8"
      }
    },
    {
      "cell_type": "code",
      "source": [],
      "metadata": {
        "id": "zmlvaJaI9dNA"
      },
      "execution_count": null,
      "outputs": []
    },
    {
      "cell_type": "code",
      "source": [
        "# TODO\n",
        "print(\"Number of training samples : \", Xtr.shape[0])\n",
        "print(\"Number of test samples: \", Xts.shape[0])\n",
        "print(\"Number of of features for each sample: \", Xtr.shape[1])\n",
        "\n",
        "classes, no_instances = np.unique(ytr,return_counts=True)\n",
        "print(\"Number of instances per class: \", classes, no_instances  )"
      ],
      "outputs": [
        {
          "output_type": "stream",
          "name": "stdout",
          "text": [
            "Number of training samples :  66247\n",
            "Number of test samples:  14904\n",
            "Number of of features for each sample:  120\n",
            "Number of instances per class:  [0 1 2 3 4 5 6 7 8 9] [ 6737  2189  4167  8930  4185  8885 12250  2505  2056 14343]\n"
          ]
        }
      ],
      "execution_count": null,
      "metadata": {
        "collapsed": true,
        "id": "0GvAkxYJ_zP8",
        "colab": {
          "base_uri": "https://localhost:8080/"
        },
        "outputId": "7289499f-429c-4d75-e9ac-164a84bee4c2"
      }
    },
    {
      "cell_type": "markdown",
      "source": [
        "Before continuing, you must scale the training and test data, `Xtr` and `Xts`.  Compute the mean and std deviation of each feature in `Xtr` and create a new training data set, `Xtr_scale`, by subtracting the mean and dividing by the std deviation.  Also compute a scaled test data set, `Xts_scale` using the mean and std deviation learned from the training data set."
      ],
      "metadata": {
        "id": "W2sZn5lC_zP9"
      }
    },
    {
      "cell_type": "code",
      "source": [
        "Xtr[0][0]"
      ],
      "metadata": {
        "colab": {
          "base_uri": "https://localhost:8080/"
        },
        "id": "-b2ccetZ_H1x",
        "outputId": "2c918415-d9ec-44d3-aae0-41bbca83e1e9"
      },
      "execution_count": null,
      "outputs": [
        {
          "output_type": "execute_result",
          "data": {
            "text/plain": [
              "0.00018205131666315858"
            ]
          },
          "metadata": {},
          "execution_count": 10
        }
      ]
    },
    {
      "cell_type": "code",
      "source": [
        "# # TODO Scale the training and test matrices\n",
        "# from sklearn.preprocessing import StandardScaler\n",
        "# sc = StandardScaler()\n",
        "# Xtr_scale = sc.fit(Xtr)\n",
        "# Xst_scale = sc.transform(Xts)\n",
        "\n",
        "\n",
        "# TODO Scale the training and test matrices\n",
        "mu = np.mean(Xtr,axis=0)\n",
        "std = np.std(Xtr,axis=0)\n",
        "Xtr_scale = (Xtr - mu) / std\n",
        "Xts_scale = (Xts - mu) / std\n"
      ],
      "outputs": [],
      "execution_count": null,
      "metadata": {
        "collapsed": true,
        "id": "0xSs4tKl_zP9"
      }
    },
    {
      "cell_type": "code",
      "source": [
        "Xtr_scale[0][0]"
      ],
      "metadata": {
        "colab": {
          "base_uri": "https://localhost:8080/"
        },
        "id": "xk0F3TbaAZVH",
        "outputId": "601e70aa-6c68-4dc9-b711-520270a81139"
      },
      "execution_count": null,
      "outputs": [
        {
          "output_type": "execute_result",
          "data": {
            "text/plain": [
              "-0.3182751747191835"
            ]
          },
          "metadata": {},
          "execution_count": 12
        }
      ]
    },
    {
      "cell_type": "markdown",
      "source": [
        "## Building a Neural Network Classifier\n",
        "\n",
        "Following the example in [MNIST neural network demo](./mnist_neural.ipynb), clear the keras session.  Then, create a neural network `model` with:\n",
        "* `nh=256` hidden units\n",
        "* `sigmoid` activation\n",
        "* select the input and output shapes correctly\n",
        "* print the model summary"
      ],
      "metadata": {
        "collapsed": true,
        "id": "KkN6aQuM_zP9"
      }
    },
    {
      "cell_type": "code",
      "source": [
        "from keras.models import Model, Sequential\n",
        "from keras.layers import Dense, Activation\n",
        "from keras import backend"
      ],
      "outputs": [],
      "execution_count": null,
      "metadata": {
        "collapsed": true,
        "id": "7z4MjqcV_zP9"
      }
    },
    {
      "cell_type": "code",
      "source": [
        "# TODO clear session\n",
        "backend.clear_session()"
      ],
      "outputs": [],
      "execution_count": null,
      "metadata": {
        "collapsed": true,
        "id": "Z_NdDQbQ_zP9"
      }
    },
    {
      "cell_type": "code",
      "source": [
        "no_class = len(classes)\n",
        "no_class"
      ],
      "metadata": {
        "colab": {
          "base_uri": "https://localhost:8080/"
        },
        "id": "7x7wLy4hCZJP",
        "outputId": "5a6f43a4-540e-49fc-b756-c981ffe20e19"
      },
      "execution_count": null,
      "outputs": [
        {
          "output_type": "execute_result",
          "data": {
            "text/plain": [
              "10"
            ]
          },
          "metadata": {},
          "execution_count": 15
        }
      ]
    },
    {
      "cell_type": "code",
      "source": [
        "# TODO: construct the model\n",
        "model = keras.models.Sequential()\n",
        "# model.add(keras.layers.Input(shape=Xtr.shape))\n",
        "# model.add(keras.layers.Flatten())\n",
        "model.add(keras.layers.Dense(units=256, activation='sigmoid'))\n",
        "model.add(keras.layers.Dense(units=128, activation='sigmoid'))\n",
        "model.add(keras.layers.Dense(units=no_class, activation = 'softmax'))\n",
        "model.build(Xtr_scale.shape)\n"
      ],
      "outputs": [],
      "execution_count": null,
      "metadata": {
        "collapsed": true,
        "id": "SVctsZdo_zP9"
      }
    },
    {
      "cell_type": "code",
      "source": [
        "# TODO:  Print the model summary\n",
        "model.summary()"
      ],
      "metadata": {
        "colab": {
          "base_uri": "https://localhost:8080/"
        },
        "id": "w0KGgMT2DEhw",
        "outputId": "7e40fb25-3783-4dff-c56a-8e4342afbc6b"
      },
      "execution_count": null,
      "outputs": [
        {
          "output_type": "stream",
          "name": "stdout",
          "text": [
            "Model: \"sequential_2\"\n",
            "_________________________________________________________________\n",
            " Layer (type)                Output Shape              Param #   \n",
            "=================================================================\n",
            " dense_3 (Dense)             (66247, 256)              30976     \n",
            "                                                                 \n",
            " dense_4 (Dense)             (66247, 128)              32896     \n",
            "                                                                 \n",
            " dense_5 (Dense)             (66247, 10)               1290      \n",
            "                                                                 \n",
            "=================================================================\n",
            "Total params: 65,162\n",
            "Trainable params: 65,162\n",
            "Non-trainable params: 0\n",
            "_________________________________________________________________\n"
          ]
        }
      ]
    },
    {
      "cell_type": "markdown",
      "source": [
        "To keep track of the loss history and validation accuracy, we will use a *callback* function as described in [Keras callback documentation](https://keras.io/callbacks/).  A callback is a class that is passed to the `fit` method.  Complete the `LoadHistory` callback class below to save the loss and validation accuracy."
      ],
      "metadata": {
        "id": "QWUKDRFr_zP9"
      }
    },
    {
      "cell_type": "code",
      "source": [
        "class LossHistory(keras.callbacks.Callback):\n",
        "    def on_train_begin(self, logs={}):\n",
        "        # TODO:  Create two empty lists, self.loss and self.val_acc\n",
        "        self.loss = list()\n",
        "        self.val_acc = list()\n",
        "    def on_batch_end(self, batch, logs={}):\n",
        "        # TODO:  This is called at the end of each batch.  \n",
        "        # Add the loss in logs.get('loss') to the loss list\n",
        "        self.loss.append(logs.get('loss'))\n",
        "    def on_epoch_end(self, epoch, logs):\n",
        "        # TODO:  This is called at the end of each epoch.  \n",
        "        # Add the test accuracy in logs.get('val_acc') to the val_acc list\n",
        "        self.val_acc.append(logs.get('val_accuracy'))\n",
        "# Create an instance of the history callback\n",
        "history_cb = LossHistory()"
      ],
      "metadata": {
        "id": "4-MpMa4BYgzO"
      },
      "execution_count": null,
      "outputs": []
    },
    {
      "cell_type": "markdown",
      "source": [
        "Create an optimizer and compile the model.  Select the appropriate loss function and metrics.  For the optimizer, use the Adam optimizer with a learning rate of 0.001"
      ],
      "metadata": {
        "id": "Cb0Sv7zV_zP-"
      }
    },
    {
      "cell_type": "code",
      "source": [
        "# TODO\n",
        "eta = 0.001\n",
        "opt = keras.optimizers.Adam(learning_rate=eta)\n",
        "model.compile(optimizer = opt,loss='sparse_categorical_crossentropy', metrics=['accuracy'])"
      ],
      "outputs": [],
      "execution_count": null,
      "metadata": {
        "collapsed": true,
        "scrolled": true,
        "id": "3NB3H9r3_zP-"
      }
    },
    {
      "cell_type": "markdown",
      "source": [
        "Fit the model for 10 epochs using the scaled data for both the training and validation.  Use the `validation_data` option to pass the test data.  Also, pass the callback class create above.  Use a batch size of 100.  Your final accuracy should be >99%."
      ],
      "metadata": {
        "id": "22NGKS9h_zP-"
      }
    },
    {
      "cell_type": "code",
      "source": [
        "# TODO\n",
        "batch_size = 100\n",
        "epochs = 10\n",
        "model.fit(Xtr_scale, ytr, batch_size=batch_size,epochs=epochs,\n",
        "          validation_data=(Xts_scale, yts),callbacks=[history_cb])"
      ],
      "outputs": [
        {
          "output_type": "stream",
          "name": "stdout",
          "text": [
            "Epoch 1/10\n",
            "663/663 [==============================] - 4s 5ms/step - loss: 0.0016 - accuracy: 0.9995 - val_loss: 0.0191 - val_accuracy: 0.9940\n",
            "Epoch 2/10\n",
            "663/663 [==============================] - 2s 3ms/step - loss: 0.0042 - accuracy: 0.9986 - val_loss: 0.0230 - val_accuracy: 0.9931\n",
            "Epoch 3/10\n",
            "663/663 [==============================] - 2s 3ms/step - loss: 0.0014 - accuracy: 0.9996 - val_loss: 0.0229 - val_accuracy: 0.9933\n",
            "Epoch 4/10\n",
            "663/663 [==============================] - 2s 3ms/step - loss: 0.0019 - accuracy: 0.9993 - val_loss: 0.0328 - val_accuracy: 0.9899\n",
            "Epoch 5/10\n",
            "663/663 [==============================] - 2s 3ms/step - loss: 0.0022 - accuracy: 0.9994 - val_loss: 0.0235 - val_accuracy: 0.9934\n",
            "Epoch 6/10\n",
            "663/663 [==============================] - 3s 4ms/step - loss: 0.0014 - accuracy: 0.9995 - val_loss: 0.0190 - val_accuracy: 0.9948\n",
            "Epoch 7/10\n",
            "663/663 [==============================] - 3s 4ms/step - loss: 0.0014 - accuracy: 0.9995 - val_loss: 0.0262 - val_accuracy: 0.9930\n",
            "Epoch 8/10\n",
            "663/663 [==============================] - 2s 3ms/step - loss: 0.0018 - accuracy: 0.9995 - val_loss: 0.0258 - val_accuracy: 0.9926\n",
            "Epoch 9/10\n",
            "663/663 [==============================] - 3s 4ms/step - loss: 0.0018 - accuracy: 0.9994 - val_loss: 0.0228 - val_accuracy: 0.9930\n",
            "Epoch 10/10\n",
            "663/663 [==============================] - 3s 4ms/step - loss: 9.6272e-04 - accuracy: 0.9997 - val_loss: 0.0264 - val_accuracy: 0.9923\n"
          ]
        },
        {
          "output_type": "execute_result",
          "data": {
            "text/plain": [
              "<keras.callbacks.History at 0x7f2a9622db20>"
            ]
          },
          "metadata": {},
          "execution_count": 41
        }
      ],
      "execution_count": null,
      "metadata": {
        "collapsed": true,
        "scrolled": true,
        "id": "4EyPBrjy_zP-",
        "colab": {
          "base_uri": "https://localhost:8080/"
        },
        "outputId": "4ba78640-9955-4e92-dbbb-b0bfa01f9804"
      }
    },
    {
      "cell_type": "markdown",
      "source": [
        "Plot the validation accuracy saved in the `history_cb`. This gives one accuracy value per epoch.  You should see that the validation accuracy saturates at a little higher than 99%.  After that it \"bounces around\" due to the noise in the stochastic gradient descent."
      ],
      "metadata": {
        "id": "9_aetwVs_zP-"
      }
    },
    {
      "cell_type": "code",
      "source": [
        "acc= history_cb.val_acc"
      ],
      "metadata": {
        "id": "JdTw4oV2XVON"
      },
      "execution_count": null,
      "outputs": []
    },
    {
      "cell_type": "code",
      "source": [
        "# TODO\n",
        "plt.plot(np.arange(1,epochs+1), acc)"
      ],
      "outputs": [
        {
          "output_type": "execute_result",
          "data": {
            "text/plain": [
              "[<matplotlib.lines.Line2D at 0x7f2b2576f3a0>]"
            ]
          },
          "metadata": {},
          "execution_count": 49
        },
        {
          "output_type": "display_data",
          "data": {
            "text/plain": [
              "<Figure size 432x288 with 1 Axes>"
            ],
            "image/png": "[encoded data removed]"
          },
          "metadata": {
            "needs_background": "light"
          }
        }
      ],
      "execution_count": null,
      "metadata": {
        "collapsed": true,
        "id": "tb2T8Aun_zP-",
        "colab": {
          "base_uri": "https://localhost:8080/",
          "height": 283
        },
        "outputId": "b7730289-4443-43ad-b107-09aadf528532"
      }
    },
    {
      "cell_type": "markdown",
      "source": [
        "Plot the loss values saved in the `history_cb` class.  Use the `semilogy` plot.  There is one loss value per step.  But, plot the x-axis in epochs.  Note that the epoch in step `i` is `epoch = i*batch_size/ntr` where `batch_size` is the batch_size and `ntr` is the total number of training samples."
      ],
      "metadata": {
        "id": "0JTbayyG_zP-"
      }
    },
    {
      "cell_type": "code",
      "source": [
        "# TODO\n",
        "loss = []\n",
        "for i in range(len(history_cb.loss)):\n",
        "    eps = i*batch_size/Xtr_scale.shape[0]\n",
        "    loss.append(eps) \n",
        "\n",
        "plt.semilogy(loss,history_cb.loss)"
      ],
      "outputs": [
        {
          "output_type": "execute_result",
          "data": {
            "text/plain": [
              "[<matplotlib.lines.Line2D at 0x7f2a962e1340>]"
            ]
          },
          "metadata": {},
          "execution_count": 50
        },
        {
          "output_type": "display_data",
          "data": {
            "text/plain": [
              "<Figure size 432x288 with 1 Axes>"
            ],
            "image/png": "[encoded data removed]"
          },
          "metadata": {
            "needs_background": "light"
          }
        }
      ],
      "execution_count": null,
      "metadata": {
        "collapsed": true,
        "id": "By-Jl016_zP_",
        "colab": {
          "base_uri": "https://localhost:8080/",
          "height": 282
        },
        "outputId": "8d758b01-6dc6-490b-8c8d-d519d5822ed0"
      }
    },
    {
      "cell_type": "markdown",
      "source": [
        "## Optimizing the Learning Rate\n",
        "\n",
        "One challenge in training neural networks is the selection of the learning rate.  Rerun the above code, trying three learning rates as shown in the vector `rates`.  For each learning rate:\n",
        "* clear the session\n",
        "* construct the network\n",
        "* select the optimizer.  Use the Adam optimizer with the appropriate learrning rate.\n",
        "* train the model\n",
        "* save the accuracy and losses"
      ],
      "metadata": {
        "id": "Bf-RNMLm_zP_"
      }
    },
    {
      "cell_type": "code",
      "source": [
        "keras.backend.clear_session\n",
        "rates = [0.01,0.001,0.0001]\n",
        "batch_size = 100\n",
        "loss_hist = []\n",
        "val_acc_hist = []\n",
        "\n",
        "# TODO\n",
        "\n",
        "history_cb.val_acc = []\n",
        "history_cb.loss = []\n",
        "for i in range(len(rates)):\n",
        "    opt = keras.optimizers.Adam(learning_rate=rates[i])\n",
        "    model.compile(optimizer=opt, loss='sparse_categorical_crossentropy', metrics=['accuracy'])\n",
        "    print()\n",
        "    print(\"*\"*50)\n",
        "    print(\"\\nlearning rate: \",rates[i])\n",
        "    print()\n",
        "    print(\"*\"*50)\n",
        "    hist = model.fit(Xtr_scale,ytr,batch_size=batch_size,epochs=epochs,\n",
        "                   validation_data=(Xts_scale, yts),callbacks=[history_cb])\n",
        "\n",
        "    loss_hist.append(hist.history['loss'])\n",
        "    val_acc_hist.append(hist.history['accuracy'])\n",
        "\n",
        "loss_hist = np.array(loss_hist)"
      ],
      "outputs": [
        {
          "output_type": "stream",
          "name": "stdout",
          "text": [
            "\n",
            "**************************************************\n",
            "\n",
            "learning rate:  0.01\n",
            "\n",
            "**************************************************\n",
            "Epoch 1/10\n",
            "663/663 [==============================] - 3s 4ms/step - loss: 0.0159 - accuracy: 0.9958 - val_loss: 0.0804 - val_accuracy: 0.9790\n",
            "Epoch 2/10\n",
            "663/663 [==============================] - 2s 3ms/step - loss: 0.0138 - accuracy: 0.9960 - val_loss: 0.0566 - val_accuracy: 0.9878\n",
            "Epoch 3/10\n",
            "663/663 [==============================] - 2s 4ms/step - loss: 0.0122 - accuracy: 0.9963 - val_loss: 0.1240 - val_accuracy: 0.9752\n",
            "Epoch 4/10\n",
            "663/663 [==============================] - 2s 3ms/step - loss: 0.0162 - accuracy: 0.9955 - val_loss: 0.1195 - val_accuracy: 0.9675\n",
            "Epoch 5/10\n",
            "663/663 [==============================] - 3s 4ms/step - loss: 0.0156 - accuracy: 0.9953 - val_loss: 0.0366 - val_accuracy: 0.9897\n",
            "Epoch 6/10\n",
            "663/663 [==============================] - 3s 4ms/step - loss: 0.0154 - accuracy: 0.9957 - val_loss: 0.0688 - val_accuracy: 0.9836\n",
            "Epoch 7/10\n",
            "663/663 [==============================] - 2s 3ms/step - loss: 0.0145 - accuracy: 0.9955 - val_loss: 0.0611 - val_accuracy: 0.9871\n",
            "Epoch 8/10\n",
            "663/663 [==============================] - 2s 3ms/step - loss: 0.0118 - accuracy: 0.9966 - val_loss: 0.0753 - val_accuracy: 0.9793\n",
            "Epoch 9/10\n",
            "663/663 [==============================] - 2s 4ms/step - loss: 0.0172 - accuracy: 0.9952 - val_loss: 0.0380 - val_accuracy: 0.9892\n",
            "Epoch 10/10\n",
            "663/663 [==============================] - 3s 4ms/step - loss: 0.0128 - accuracy: 0.9963 - val_loss: 0.0618 - val_accuracy: 0.9837\n",
            "\n",
            "**************************************************\n",
            "\n",
            "learning rate:  0.001\n",
            "\n",
            "**************************************************\n",
            "Epoch 1/10\n",
            "663/663 [==============================] - 3s 4ms/step - loss: 0.0035 - accuracy: 0.9989 - val_loss: 0.0433 - val_accuracy: 0.9887\n",
            "Epoch 2/10\n",
            "663/663 [==============================] - 3s 4ms/step - loss: 0.0014 - accuracy: 0.9995 - val_loss: 0.0442 - val_accuracy: 0.9891\n",
            "Epoch 3/10\n",
            "663/663 [==============================] - 2s 4ms/step - loss: 0.0012 - accuracy: 0.9996 - val_loss: 0.0378 - val_accuracy: 0.9909\n",
            "Epoch 4/10\n",
            "663/663 [==============================] - 2s 3ms/step - loss: 8.4404e-04 - accuracy: 0.9997 - val_loss: 0.0414 - val_accuracy: 0.9899\n",
            "Epoch 5/10\n",
            "663/663 [==============================] - 2s 4ms/step - loss: 4.9909e-04 - accuracy: 0.9998 - val_loss: 0.0404 - val_accuracy: 0.9907\n",
            "Epoch 6/10\n",
            "663/663 [==============================] - 2s 4ms/step - loss: 4.2988e-04 - accuracy: 0.9999 - val_loss: 0.0430 - val_accuracy: 0.9907\n",
            "Epoch 7/10\n",
            "663/663 [==============================] - 3s 4ms/step - loss: 3.4377e-04 - accuracy: 0.9999 - val_loss: 0.0384 - val_accuracy: 0.9913\n",
            "Epoch 8/10\n",
            "663/663 [==============================] - 3s 4ms/step - loss: 6.6152e-04 - accuracy: 0.9998 - val_loss: 0.0449 - val_accuracy: 0.9905\n",
            "Epoch 9/10\n",
            "663/663 [==============================] - 2s 3ms/step - loss: 5.2346e-04 - accuracy: 0.9999 - val_loss: 0.0476 - val_accuracy: 0.9907\n",
            "Epoch 10/10\n",
            "663/663 [==============================] - 2s 3ms/step - loss: 1.6725e-04 - accuracy: 0.9999 - val_loss: 0.0440 - val_accuracy: 0.9913\n",
            "\n",
            "**************************************************\n",
            "\n",
            "learning rate:  0.0001\n",
            "\n",
            "**************************************************\n",
            "Epoch 1/10\n",
            "663/663 [==============================] - 3s 4ms/step - loss: 4.3131e-04 - accuracy: 0.9999 - val_loss: 0.0439 - val_accuracy: 0.9913\n",
            "Epoch 2/10\n",
            "663/663 [==============================] - 2s 4ms/step - loss: 1.7429e-04 - accuracy: 0.9999 - val_loss: 0.0442 - val_accuracy: 0.9912\n",
            "Epoch 3/10\n",
            "663/663 [==============================] - 3s 4ms/step - loss: 1.1830e-04 - accuracy: 0.9999 - val_loss: 0.0429 - val_accuracy: 0.9913\n",
            "Epoch 4/10\n",
            "663/663 [==============================] - 2s 3ms/step - loss: 9.9572e-05 - accuracy: 1.0000 - val_loss: 0.0427 - val_accuracy: 0.9914\n",
            "Epoch 5/10\n",
            "663/663 [==============================] - 3s 4ms/step - loss: 1.0600e-04 - accuracy: 0.9999 - val_loss: 0.0431 - val_accuracy: 0.9915\n",
            "Epoch 6/10\n",
            "663/663 [==============================] - 3s 4ms/step - loss: 8.3102e-05 - accuracy: 1.0000 - val_loss: 0.0429 - val_accuracy: 0.9916\n",
            "Epoch 7/10\n",
            "663/663 [==============================] - 3s 4ms/step - loss: 7.4329e-05 - accuracy: 1.0000 - val_loss: 0.0437 - val_accuracy: 0.9915\n",
            "Epoch 8/10\n",
            "663/663 [==============================] - 3s 4ms/step - loss: 8.0802e-05 - accuracy: 1.0000 - val_loss: 0.0436 - val_accuracy: 0.9915\n",
            "Epoch 9/10\n",
            "663/663 [==============================] - 3s 4ms/step - loss: 7.8998e-05 - accuracy: 1.0000 - val_loss: 0.0436 - val_accuracy: 0.9915\n",
            "Epoch 10/10\n",
            "663/663 [==============================] - 2s 3ms/step - loss: 7.9096e-05 - accuracy: 1.0000 - val_loss: 0.0441 - val_accuracy: 0.9914\n"
          ]
        }
      ],
      "execution_count": null,
      "metadata": {
        "collapsed": true,
        "id": "MQ18H38z_zP_",
        "colab": {
          "base_uri": "https://localhost:8080/"
        },
        "outputId": "f9a65a13-b1de-4fec-a7bc-7ae98df2a3fe"
      }
    },
    {
      "cell_type": "markdown",
      "source": [
        "Plot the loss funciton vs. the epoch number for all three learning rates on one graph.  You should see that the lower learning rates are more stable, but converge slower."
      ],
      "metadata": {
        "id": "Evrgu7ce_zP_"
      }
    },
    {
      "cell_type": "code",
      "source": [],
      "metadata": {
        "colab": {
          "base_uri": "https://localhost:8080/",
          "height": 35
        },
        "id": "HZGZTICdcc3z",
        "outputId": "fcd0f507-6ff7-440c-93a7-15930f50f5ef"
      },
      "execution_count": null,
      "outputs": [
        {
          "output_type": "execute_result",
          "data": {
            "text/plain": [
              "'rate=0.01'"
            ],
            "application/vnd.google.colaboratory.intrinsic+json": {
              "type": "string"
            }
          },
          "metadata": {},
          "execution_count": 65
        }
      ]
    },
    {
      "cell_type": "code",
      "source": [
        "# TODO\n",
        "epochs=np.arange(1,11)\n",
        "plt.plot(epochs,loss_hist[0, :],label= \"=\".join(['rate',str(rates[0])]))\n",
        "plt.plot(epochs,loss_hist[1, :],label= \"=\".join(['rate',str(rates[1])]))\n",
        "plt.plot(epochs,loss_hist[2, :],label= \"=\".join(['rate',str(rates[2])]))\n",
        "plt.legend() \n",
        "plt.xlim(0,10)\n",
        "plt.xlabel('epochs')\n",
        "plt.ylabel('Loss')\n",
        "plt.title('Training Loss for each Epoch')"
      ],
      "outputs": [
        {
          "output_type": "execute_result",
          "data": {
            "text/plain": [
              "Text(0.5, 1.0, 'Training Loss for each Epoch')"
            ]
          },
          "metadata": {},
          "execution_count": 68
        },
        {
          "output_type": "display_data",
          "data": {
            "text/plain": [
              "<Figure size 432x288 with 1 Axes>"
            ],
            "image/png": "[encoded data removed]"
          },
          "metadata": {
            "needs_background": "light"
          }
        }
      ],
      "execution_count": null,
      "metadata": {
        "collapsed": true,
        "id": "Rk_agdO-_zP_",
        "colab": {
          "base_uri": "https://localhost:8080/",
          "height": 312
        },
        "outputId": "3c4fd398-b408-4292-b76f-b4021caf313d"
      }
    },
    {
      "cell_type": "code",
      "source": [],
      "outputs": [],
      "execution_count": null,
      "metadata": {
        "collapsed": true,
        "id": "Lj-TViTq_zP_"
      }
    },
    {
      "cell_type": "code",
      "source": [],
      "outputs": [],
      "execution_count": null,
      "metadata": {
        "collapsed": true,
        "id": "dUDEfQ6E_zP_"
      }
    }
  ],
  "metadata": {
    "anaconda-cloud": {},
    "kernelspec": {
      "display_name": "Python [conda root]",
      "language": "python",
      "name": "conda-root-py"
    },
    "language_info": {
      "codemirror_mode": {
        "name": "ipython",
        "version": 3
      },
      "file_extension": ".py",
      "mimetype": "text/x-python",
      "name": "python",
      "nbconvert_exporter": "python",
      "pygments_lexer": "ipython3",
      "version": "3.5.4"
    },
    "nteract": {
      "version": "0.28.0"
    },
    "colab": {
      "provenance": []
    },
    "accelerator": "GPU",
    "gpuClass": "standard"
  },
  "nbformat": 4,
  "nbformat_minor": 0
}